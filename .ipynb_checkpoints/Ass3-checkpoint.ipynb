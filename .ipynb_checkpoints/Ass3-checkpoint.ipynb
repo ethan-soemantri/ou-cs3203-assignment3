{
 "cells": [
  {
   "cell_type": "code",
   "execution_count": 22,
   "id": "ddda6f3a",
   "metadata": {},
   "outputs": [
    {
     "name": "stdout",
     "output_type": "stream",
     "text": [
      "How many numbers will you add?\n",
      "3\n",
      "Enter a number:\n",
      "1\n",
      "Enter a number:\n",
      "2\n",
      "Enter a number:\n",
      "3\n",
      "Sum:\n",
      "6\n",
      "Product sum:\n",
      "6\n"
     ]
    }
   ],
   "source": [
    "\n",
    "nums = []\n",
    "\n",
    "#Step 1\n",
    "#create function (nums is list of numbers)\n",
    "#computes sum\n",
    "def compSum(nums): \n",
    "    tot = 0\n",
    "    for num in nums:\n",
    "        tot = tot + num\n",
    "        \n",
    "    return tot\n",
    "\n",
    "    \n",
    "#Step 2\n",
    "#create function (nums is list of numbers)\n",
    "#computes product sum\n",
    "def compProd(nums): \n",
    "    tot = 1\n",
    "    for num in nums:\n",
    "        tot = tot * num\n",
    "    return tot\n",
    "\n",
    "#Step 3 main method\n",
    "def main():\n",
    "    print('How many numbers will you add?')\n",
    "    count = int(input())\n",
    "    for i in range(count):\n",
    "        print('Enter a number:')\n",
    "        num = input()\n",
    "        nums.append(int(num))\n",
    "    print('Sum:')\n",
    "    print(compSum(nums))\n",
    "    print('Product sum:')\n",
    "    print(compProd(nums))\n",
    "    \n",
    "\n",
    "if __name__ == \"__main__\":\n",
    "    main()\n"
   ]
  },
  {
   "cell_type": "code",
   "execution_count": 11,
   "id": "5fe1d5fc",
   "metadata": {},
   "outputs": [
    {
     "ename": "SyntaxError",
     "evalue": "invalid syntax (Temp/ipykernel_10836/43044909.py, line 12)",
     "output_type": "error",
     "traceback": [
      "\u001b[1;36m  File \u001b[1;32m\"C:\\Users\\explo\\AppData\\Local\\Temp/ipykernel_10836/43044909.py\"\u001b[1;36m, line \u001b[1;32m12\u001b[0m\n\u001b[1;33m    if __name__ == \"__main__\":\u001b[0m\n\u001b[1;37m                             ^\u001b[0m\n\u001b[1;31mSyntaxError\u001b[0m\u001b[1;31m:\u001b[0m invalid syntax\n"
     ]
    }
   ],
   "source": []
  }
 ],
 "metadata": {
  "kernelspec": {
   "display_name": "Python 3 (ipykernel)",
   "language": "python",
   "name": "python3"
  },
  "language_info": {
   "codemirror_mode": {
    "name": "ipython",
    "version": 3
   },
   "file_extension": ".py",
   "mimetype": "text/x-python",
   "name": "python",
   "nbconvert_exporter": "python",
   "pygments_lexer": "ipython3",
   "version": "3.9.7"
  }
 },
 "nbformat": 4,
 "nbformat_minor": 5
}
