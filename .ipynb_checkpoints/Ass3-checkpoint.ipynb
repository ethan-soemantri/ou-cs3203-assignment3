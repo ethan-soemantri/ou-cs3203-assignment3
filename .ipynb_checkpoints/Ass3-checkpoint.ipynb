{
 "cells": [
  {
   "cell_type": "code",
   "execution_count": 2,
   "id": "ddda6f3a",
   "metadata": {},
   "outputs": [],
   "source": [
    "#Step 1\n",
    "#create function (nums is list of numbers)\n",
    "#computes sum\n",
    "def compSum(nums): \n",
    "    tot = 0\n",
    "    for num in nums:\n",
    "        tot = tot + num\n",
    "        \n",
    "    return tot\n",
    "\n",
    "    \n",
    "#Step 2\n",
    "#create function (nums is list of numbers)\n",
    "#computes product sum\n",
    "def compProd(nums): \n",
    "    tot = 0\n",
    "    for num in nums:\n",
    "        tot = tot * num\n",
    "        \n",
    "    return tot"
   ]
  }
 ],
 "metadata": {
  "kernelspec": {
   "display_name": "Python 3 (ipykernel)",
   "language": "python",
   "name": "python3"
  },
  "language_info": {
   "codemirror_mode": {
    "name": "ipython",
    "version": 3
   },
   "file_extension": ".py",
   "mimetype": "text/x-python",
   "name": "python",
   "nbconvert_exporter": "python",
   "pygments_lexer": "ipython3",
   "version": "3.9.7"
  }
 },
 "nbformat": 4,
 "nbformat_minor": 5
}
