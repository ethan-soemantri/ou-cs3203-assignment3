{
 "cells": [
  {
   "cell_type": "code",
   "execution_count": 2,
   "id": "ddda6f3a",
   "metadata": {},
   "outputs": [],
   "source": [
    "#Step 1\n",
    "#create function (nums is list of numbers)\n",
    "#computes sum\n",
    "def compSum(nums): \n",
    "    tot = 0\n",
    "    for num in nums:\n",
    "        tot = tot + num\n",
    "        \n",
    "    return tot\n",
    "\n",
    "    "
   ]
  },
  {
   "cell_type": "code",
   "execution_count": null,
   "id": "bdaa9cbc",
   "metadata": {},
   "outputs": [],
   "source": []
  },
  {
   "cell_type": "code",
   "execution_count": null,
   "id": "c9344931",
   "metadata": {},
   "outputs": [],
   "source": []
  },
  {
   "cell_type": "code",
   "execution_count": null,
   "id": "7a39cef6",
   "metadata": {},
   "outputs": [],
   "source": []
  }
 ],
 "metadata": {
  "kernelspec": {
   "display_name": "Python 3 (ipykernel)",
   "language": "python",
   "name": "python3"
  },
  "language_info": {
   "codemirror_mode": {
    "name": "ipython",
    "version": 3
   },
   "file_extension": ".py",
   "mimetype": "text/x-python",
   "name": "python",
   "nbconvert_exporter": "python",
   "pygments_lexer": "ipython3",
   "version": "3.9.7"
  }
 },
 "nbformat": 4,
 "nbformat_minor": 5
}
